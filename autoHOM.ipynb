{
 "cells": [
  {
   "cell_type": "markdown",
   "metadata": {},
   "source": [
    "# IMPORTANT!\n",
    "After you have opened connections to the devices via the code on the \"... init\" sections, you can carry out measurements.\n",
    "\n",
    "After you are done with your measurments, you need to close the connections to the devices, such that, e.g., other programs can later connect to the devicec (e.g., GUI). \n",
    "Just run all cells in the last section \"deinitialization\".\n",
    "If you dont close the connection properly, no new connection to the devices can be opened again."
   ]
  },
  {
   "cell_type": "markdown",
   "metadata": {},
   "source": [
    "# imports"
   ]
  },
  {
   "cell_type": "code",
   "execution_count": 1,
   "metadata": {},
   "outputs": [],
   "source": [
    "import numpy as np\n",
    "import matplotlib.pyplot as plt\n",
    "from datetime import datetime\n",
    "import csv\n",
    "from datetime import timedelta\n",
    "\n",
    "# imports conex\n",
    "import serial\n",
    "import time\n",
    "import signal\n",
    "import sys\n",
    "\n",
    "# imports qutau\n",
    "import QuTauBesser # basically the same as QuTau.py provided by qutools but with some improvements, see qutool website\n",
    "import time\n",
    "\n",
    "# imports TEC\n",
    "from TEC_serial_interface import arroyo # \"TEC_serial_interface\" is identical to the \"serial_interface\" python file from https://github.com/ArroyoInst/arroyo_tec\n",
    "import os\n",
    "import time"
   ]
  },
  {
   "cell_type": "markdown",
   "metadata": {},
   "source": [
    "Notice: In the quTAU python examples qutools provides, in the \"QuTau.py\" file the \"Counting\" functionality is sadly not implemented.\n",
    "I crated \"QuTauBesser\" which is identical to \"QuTau\", but incorporates this functionality, which is implemented like this:\n",
    "\n",
    " Counting --------------------------------------------\n",
    " \n",
    "\tdef getCoincCounters(self):\n",
    "\t\tdata = np.zeros(19, dtype=np.int32)\n",
    "\t\tupdate = ctypes.c_int32()\n",
    "\n",
    "\t\tself.qutools_dll.TDC_getCoincCounters.argtypes = [ctypes.POINTER(ctypes.c_int32), ctypes.POINTER(ctypes.c_int32)]\n",
    "\t\tself.qutools_dll.TDC_getCoincCounters.restype = ctypes.c_int32\n",
    "\n",
    "\t\t#ans = self.qutools_dll.TDC_getCoincCounters(data.ctypes.data_as(ctypes.POINTER(ctypes.c_int32)))\n",
    "\t\tans = self.qutools_dll.TDC_getCoincCounters(data.ctypes.data_as(ctypes.POINTER(ctypes.c_int32)), ctypes.byref(update)) #alternativ den zweiten parameter einfach 0 setzen\n",
    "\n",
    "\t\tif (ans!=0): # \"never fails\"\n",
    "\t\t\tprint (\"Error in TDC_getCoincCounters:\"+self.err_dict[ans])\n",
    "\t\t\n",
    "\t\treturn (data, update.value)"
   ]
  },
  {
   "cell_type": "markdown",
   "metadata": {},
   "source": [
    "# quTAU init"
   ]
  },
  {
   "cell_type": "code",
   "execution_count": null,
   "metadata": {},
   "outputs": [],
   "source": [
    "# initialize device\n",
    "qutau = QuTauBesser.QuTau()\n",
    "devType = qutau.getDeviceType()\n",
    "\n",
    "if (devType == qutau.DEVTYPE_1A):\n",
    "\tprint (\"found quTAU!\")\n",
    "elif (devType == qutau.DEVTYPE_1B):\n",
    "\tprint (\"found quTAU(H)!\")\n",
    "elif (devType == qutau.DEVTYPE_1C):\n",
    "\tprint (\"found quPSI!\")\n",
    "elif (devType == qutau.DEVTYPE_2A):\n",
    "\tprint (\"found quTAG!\")\n",
    "else:\n",
    "\tprint (\"no suitable device found - demo mode activated\")\n",
    "\t\n",
    "print (\"Device timebase:\" + str(qutau.getTimebase()))\n",
    "print(\"setBufferSize: \", qutau.err_dict[qutau.setBufferSize(1000000)])"
   ]
  },
  {
   "cell_type": "code",
   "execution_count": null,
   "metadata": {},
   "outputs": [],
   "source": [
    "# enable channels\n",
    "# Bitfield with activation flags for every TDC channel. \n",
    "qutau.enableChannels((0,1)) "
   ]
  },
  {
   "cell_type": "code",
   "execution_count": null,
   "metadata": {},
   "outputs": [],
   "source": [
    "qutau.setCoincidenceWindow(150)\n",
    "qutau.setExposureTime(100)\n",
    "\n",
    "chn, coinc, exptime = qutau.getDeviceParams()\n",
    "print(\"channels: \", bin(chn)) \n",
    "# Bitfield with activation flags for every TDC channel. \n",
    "# translated to binary for easier readibility \n",
    "# (11 = 3 -> channels 1 and 2 activated)\n",
    "# (101 = 5 -> channels 1 and 3 activated\n",
    "print(\"coinc window: \", coinc, \"bins\")\n",
    "print(\"exposure time: \", exptime, \"ms\")"
   ]
  },
  {
   "cell_type": "markdown",
   "metadata": {},
   "source": [
    "# conex init"
   ]
  },
  {
   "cell_type": "code",
   "execution_count": 23,
   "metadata": {},
   "outputs": [],
   "source": [
    "def WaitStatus(agp, val, timeout):       \n",
    "        #print(\"WaitStatus : \" + val)\n",
    "        for x in range(timeout):\n",
    "                time.sleep(0.1)\n",
    "                cmd = '1TS\\r\\n' # Get positioner error and controller state\n",
    "                agp.write(cmd.encode())\n",
    "                status = agp.readline().decode().rstrip()       \n",
    "                if val in status:\n",
    "                        #print(\"Status = \" + status)\n",
    "                        return 1\n",
    "        print(\"WaitStatus timeout, Status = \" + status)\n",
    "        return -1;"
   ]
  },
  {
   "cell_type": "code",
   "execution_count": null,
   "metadata": {},
   "outputs": [],
   "source": [
    "# connect to AGP controller\n",
    "agp = serial.Serial(port = \"COM14\", baudrate = 921600, timeout=3)\n",
    "\n",
    "# reset controller and print version\n",
    "\n",
    "print(\"reset controller\")\n",
    "\n",
    "cmd = '1RS\\r\\n' # Reset controller\n",
    "agp.write(cmd.encode())\n",
    "WaitStatus(agp, '1TS00000A', 10000)\n",
    "\n",
    "cmd = '1VE\\r\\n' # Get controller revision information\n",
    "agp.write(cmd.encode())\n",
    "version = agp.readline().decode().rstrip()\n",
    "print(\"Version = \" + version)\n",
    "\n",
    "cmd = '1OR\\r\\n' # Execute HOME search\n",
    "agp.write(cmd.encode())\n",
    "WaitStatus(agp, '1TS000032', 10000)\n",
    "\n",
    "# If after 1 minute or so the stage is not homing or even finished, there is a problem. \n",
    "# Restarting the program that runs this code \n",
    "# or connecting to the linear stage via the GUI, reconneecting and trying again with this code did help in the past."
   ]
  },
  {
   "cell_type": "code",
   "execution_count": null,
   "metadata": {},
   "outputs": [],
   "source": [
    "# get current minimum\n",
    "cmd = '1SL?\\r\\n'\n",
    "agp.write(cmd.encode())\n",
    "sl = agp.readline().decode().rstrip()\n",
    "print(sl)"
   ]
  },
  {
   "cell_type": "code",
   "execution_count": 120,
   "metadata": {},
   "outputs": [],
   "source": [
    "# It should be possible to define a minimum & maximum position for the stage, in order to\n",
    "# prevent it from moving too far. However, this code here doesnt properly work.\n",
    "\n",
    "# define minimum\n",
    "cmd = \"1SL0\\r\\n\"\n",
    "agp.write(cmd.encode())\n",
    "#WaitStatus(agp, '1TS000033', 10000)\n",
    "time.sleep(1)\n",
    "\n",
    "# get current minimum\n",
    "cmd = '1SL?\\r\\n' # Get current position\n",
    "agp.write(cmd.encode())\n",
    "sl = agp.readline().decode().rstrip()\n",
    "print(sl)"
   ]
  },
  {
   "cell_type": "markdown",
   "metadata": {},
   "source": [
    "# TEC init"
   ]
  },
  {
   "cell_type": "code",
   "execution_count": null,
   "metadata": {},
   "outputs": [],
   "source": [
    "# Create an object for the TEC controller which opens up serial com w/ instr.\n",
    "# The command line interface will print all available arroyo devices in a \n",
    "#   number list. Type the number of the instrument you wish to use and hit\n",
    "#   \"enter\".\n",
    "TEC = arroyo()\n",
    "\n",
    "TEC.set_mode(\"T\")\n",
    "TEC.set_heatcool(\"BOTH\")\n",
    "TEC.set_current_limit(1.0)\n",
    "#TEC.set_voltage_limit(4.0) # Firmware too old\n",
    "\n",
    "# Set some restrictions on outputs and setpoints\n",
    "#TEC.set_fan(\"OFF\",1)\n",
    "TEC.set_TLO_limit(10.0)\n",
    "TEC.set_THI_limit(75.0)\n",
    "\n",
    "# Sets tolerance spec for controller\n",
    "TEC.set_tolerance(0.01, 0.1)\n",
    "\n",
    "# Sets control type to PID and sets values, tune to your application\n",
    "TEC.set_gain(3)\n",
    "#TEC.set_gain(\"PID\")\n",
    "#TEC.set_PID(32, 0.031, 0)"
   ]
  },
  {
   "cell_type": "code",
   "execution_count": 70,
   "metadata": {},
   "outputs": [],
   "source": [
    "# A function that lets you set a temperature and that will then wait until the\n",
    "#  temperature has settled at the target value.\n",
    "\n",
    "def TEC_set_and_wait(target_temp):\n",
    "    # Set the system to the target temperature\n",
    "    TEC.set_temp(target_temp)\n",
    "    \n",
    "    start_time = time.time()\n",
    "    while True:\n",
    "        current_temp = TEC.read_temp()\n",
    "        #print(current_temp)\n",
    "        current_time = time.time()\n",
    "        \n",
    "        if current_temp == target_temp:\n",
    "            # If the temperature has settled at the target value for 2 seconds\n",
    "            if current_time - start_time >= 2:\n",
    "                print(f\"Temperature settled at {current_temp}°C\")\n",
    "                break\n",
    "        else:\n",
    "            # Reset the start time if the temperature is not at the target value\n",
    "            start_time = current_time\n",
    "            print(f\"Temperature currently at {current_temp}°C\")\n",
    "        \n",
    "        # Sleep for a short duration before checking again\n",
    "        time.sleep(0.1)"
   ]
  },
  {
   "cell_type": "markdown",
   "metadata": {},
   "source": [
    "# measurement"
   ]
  },
  {
   "cell_type": "code",
   "execution_count": 43,
   "metadata": {},
   "outputs": [
    {
     "data": {
      "text/plain": [
       "array([ 8308, 10242,     0,     0,     0,     0,     0,     0,   107,\n",
       "           0,     0,     0,     0,     0,     0,     0,     0,     0,\n",
       "           0])"
      ]
     },
     "execution_count": 43,
     "metadata": {},
     "output_type": "execute_result"
    }
   ],
   "source": [
    "# This is how you get the current count rates from the quTAU\n",
    "# The last value in the array that is given back, which is here saved in the \n",
    "# \"update_temp\" variable, is the number of \"integration cycles\" that have been\n",
    "# performed since the last time the current rates were read out.\n",
    "data_temp, update_temp = qutau.getCoincCounters()\n",
    "data_temp"
   ]
  },
  {
   "cell_type": "code",
   "execution_count": null,
   "metadata": {},
   "outputs": [],
   "source": [
    "# move linear stage to point\n",
    "point = 2.9\n",
    "cmd = \"1PA\"+str(point)+\"\\r\\n\" # Move absolute\n",
    "agp.write(cmd.encode())\n",
    "WaitStatus(agp, '1TS000033', 10000)\n",
    "cmd = '1TP\\r\\n' # Get current position\n",
    "agp.write(cmd.encode())\n",
    "position = agp.readline().decode().rstrip()\n",
    "print(\"Position = \" + position)"
   ]
  },
  {
   "cell_type": "code",
   "execution_count": null,
   "metadata": {},
   "outputs": [],
   "source": [
    "# move linear stage in relative steps\n",
    "cmd = \"1PR-0.01\\r\\n\" # Move relative\n",
    "agp.write(cmd.encode())\n",
    "WaitStatus(agp, '1TS000033', 10000)\n",
    "cmd = '1TP\\r\\n' # Get current position\n",
    "agp.write(cmd.encode())\n",
    "position = agp.readline().decode().rstrip()\n",
    "print(\"Position = \" + position)"
   ]
  },
  {
   "cell_type": "markdown",
   "metadata": {},
   "source": [
    "# measurement HOM"
   ]
  },
  {
   "cell_type": "code",
   "execution_count": null,
   "metadata": {},
   "outputs": [],
   "source": [
    "# set temperature\n",
    "temp = 45.3 #°C\n",
    "TEC_set_and_wait(temp)"
   ]
  },
  {
   "cell_type": "code",
   "execution_count": null,
   "metadata": {},
   "outputs": [],
   "source": [
    "# define parameters\n",
    "qutau.setCoincidenceWindow(150) # bins\n",
    "start_point = 1.5 # mm\n",
    "step_size = 0.1 # mm\n",
    "num_points = int(31) # how often shall the stage move in steps of step_size?\n",
    "measurements_per_point = 20\n",
    "HWP = 90 # deg\n",
    "free_space_filter = 1 # 0 means no filter, 1 means filter\n",
    "laser_diode_curr = 200 # mA\n",
    "\n",
    "\n",
    "# print for visual double check of set paramters\n",
    "center_point = start_point+step_size*(num_points-1)/2\n",
    "print(\"Measurement region:\", start_point, \"-\", start_point+step_size*(num_points-1), \"mm\")\n",
    "print(\"Center:\", center_point, \"mm\")\n",
    "print(\"Step size:\", step_size,\"mm\"), \n",
    "print(\"Measurements per point:\",measurements_per_point)\n",
    "print(\"Exposure time: \", exptime, \"ms\")\n",
    "print(\"laser_diode_curr:\", laser_diode_curr)\n",
    "print(\"free_space_filter:\", free_space_filter)\n",
    "td = timedelta(seconds=num_points*measurements_per_point/10)\n",
    "print('This measurement will take ca.', td)\n",
    "\n",
    "if center_point < 2.5 or center_point > 3.5:\n",
    "    print(\"!!!*****   ARE YOU SURE THAT YOU WANT TO MEASURE WITH A CENTER POINT OF\",center_point,\"mm !?!?!?!?!   *****!!!\")"
   ]
  },
  {
   "cell_type": "code",
   "execution_count": 290,
   "metadata": {},
   "outputs": [],
   "source": [
    "# this can be used to add a for loop to othe measurement code below in order\n",
    "# to repeat the measurement several times for different temperatures\n",
    "\n",
    "#temp_start = 44.4\n",
    "#temp_end = 46.4\n",
    "#temp_step = 0.1\n",
    "#np.arange(temp_start, temp_end + temp_step, temp_step)\n",
    "\n",
    "#for temp in np.arange(46.3, temp_end + temp_step, temp_step):\n",
    "\n",
    "    #TEC_set_and_wait(temp)"
   ]
  },
  {
   "cell_type": "code",
   "execution_count": null,
   "metadata": {},
   "outputs": [],
   "source": [
    "# list of filenames, in case this whole code is run multiple times (e.g., in the for loop above)\n",
    "#filenames = []\n",
    "\n",
    "# create array to hold data\n",
    "data = np.zeros((num_points*measurements_per_point,5))\n",
    "\n",
    "# move linear stage to start point\n",
    "cmd = \"1PA\"+str(start_point)+\"\\r\\n\" # Move absolute\n",
    "agp.write(cmd.encode())\n",
    "WaitStatus(agp, '1TS000033', 10000)\n",
    "cmd = '1TP\\r\\n' # Get current position\n",
    "agp.write(cmd.encode())\n",
    "position = agp.readline().decode().rstrip()\n",
    "print(\"Position = \" + position)\n",
    "\n",
    "# Iteratively move relative the step size\n",
    "for i in range (num_points):\n",
    "    #start = time.time()\n",
    "    cmd = \"1PR\"+str(step_size)+\"\\r\\n\" # Move relative\n",
    "    agp.write(cmd.encode())\n",
    "    WaitStatus(agp, '1TS000033', 10000)\n",
    "    cmd = '1TP\\r\\n' # Get current position\n",
    "    agp.write(cmd.encode())\n",
    "    position = agp.readline().decode().rstrip()\n",
    "    print(\"Position = \" + position)\n",
    "    #print(\"It took\", time.time()-start, \"seconds for the repositioning\".)\n",
    "\n",
    "    # Iteratively get the coinc and wait the exposure time\n",
    "    for j in range(measurements_per_point):\n",
    "        #start = time.time()\n",
    "        data_temp, update_temp = qutau.getCoincCounters()\n",
    "        data_temp = data_temp[[0,1,8]] * 1000/exptime\n",
    "        data_temp = np.append(data_temp, update_temp)\n",
    "        pos_temp = start_point + i * step_size\n",
    "        data[i * measurements_per_point + j] = np.append(pos_temp,data_temp)\n",
    "        #print(update_temp)\n",
    "        time.sleep(exptime/1000.0)\n",
    "        #print(\"It took\", time.time()-start, \"seconds for the measurement\".)\n",
    "\n",
    "\n",
    "# Save the data, metadata and phases to csv files\n",
    "\n",
    "# Generate a date and time tag for the filename\n",
    "date_time_tag = datetime.now().strftime('%Y%m%d_%H%M%S')\n",
    "\n",
    "file_name_data = f'{date_time_tag}_I{laser_diode_curr}_data.csv'\n",
    "np.savetxt(file_name_data, data, delimiter=',')\n",
    "#filenames.append(file_name_data)\n",
    "\n",
    "metadata = np.array([[\"start_point\", \"step_size\", \"num_points\", \"measurements_per_point\", \"exptime\", \"coinc\", \"laser_diode_curr\",\"free_space_filter\",\"temp\",\"HWP\"],\n",
    "            [start_point, step_size, num_points, measurements_per_point, exptime, coinc, laser_diode_curr, free_space_filter,temp,HWP]])\n",
    "file_name_metadata = f'{date_time_tag}_metadata.csv'\n",
    "with open(file_name_metadata, 'w', newline='') as csvfile:\n",
    "    writer = csv.writer(csvfile)\n",
    "    writer.writerows(metadata)\n",
    "\n",
    "#np.save(f'{date_time_tag}_temperature_filenames.npy', filenames)"
   ]
  },
  {
   "cell_type": "markdown",
   "metadata": {},
   "source": [
    "# analysis and plotting"
   ]
  },
  {
   "cell_type": "code",
   "execution_count": 295,
   "metadata": {},
   "outputs": [],
   "source": [
    "# Finding unique values in col 1 (positions)\n",
    "pos = np.unique(data[:, 0])\n",
    "\n",
    "# Calculating mean and standard deviation for col 2, 3, and 4 (singles & coinc)\n",
    "# based on values in column 1 (positions)\n",
    "\n",
    "# notice: using a dict may be cumbersome here, the main reason why I used it is\n",
    "# that I wanted to learn how to properly use dicts... :)\n",
    "data_dict = {}\n",
    "for position in pos:\n",
    "    mask = data[:, 0] == position\n",
    "    mean_values = data[mask, 1:4].mean(axis=0)\n",
    "    std_values = data[mask, 1:4].std(axis=0)\n",
    "    data_dict[position] = {'mean': mean_values, 'std': std_values}\n",
    "\n",
    "#result"
   ]
  },
  {
   "cell_type": "code",
   "execution_count": 297,
   "metadata": {},
   "outputs": [
    {
     "data": {
      "image/png": "[encoded data removed]",
      "text/plain": [
       "<Figure size 1000x600 with 1 Axes>"
      ]
     },
     "metadata": {},
     "output_type": "display_data"
    }
   ],
   "source": [
    "# Extracting mean values of coinc (col 4) and unique values from result\n",
    "coinc_mean = [value['mean'][2] for value in data_dict.values()]\n",
    "\n",
    "# Extracting standard deviation values of coinc (col 4) for error bars\n",
    "coinc_std = [value['std'][2] for value in data_dict.values()]\n",
    "\n",
    "# Plotting with error bars\n",
    "plt.figure(figsize=(10, 6))\n",
    "plt.errorbar(pos, coinc_mean, yerr=coinc_std, marker='o', linestyle='-', capsize=5)#, label=\"Mean of Column 4\")\n",
    "plt.title(\"measurements_per_point: \"+ str(measurements_per_point) + \", exptime: \" + str(exptime) + \", coinc window: \" + str(coinc) \n",
    "                    + \", step_size: \" + str(step_size) + \", laser_diode_curr: \" + str(laser_diode_curr) + \", temp: \" + str(temp) + \", HWP \" + str(HWP) +\"°\")\n",
    "plt.xlabel(\"Linear stage position (mm)\")\n",
    "plt.ylabel(\"Coincidence rate (s^-1)\")\n",
    "#plt.legend()\n",
    "plt.grid(True)\n",
    "plt.show()"
   ]
  },
  {
   "cell_type": "markdown",
   "metadata": {},
   "source": [
    "# coincidence window change\n",
    "In order to find out at which bin size of the coincidence window the coincidence rate jumps up and we thus know, that the coincidence window incorporates the \"real\" coincidences caused by two photons from the same SPDC pair, the coincidence window is simply increased and each step the rate is measured. "
   ]
  },
  {
   "cell_type": "code",
   "execution_count": null,
   "metadata": {},
   "outputs": [],
   "source": [
    "measurements_per_point = 20\n",
    "\n",
    "# create array to hold data\n",
    "data = np.zeros((51*measurements_per_point,5))\n",
    "\n",
    "# move linear stage to start point\n",
    "cmd = \"1PA\"+str(start_point)+\"\\r\\n\" # Move absolute\n",
    "agp.write(cmd.encode())\n",
    "WaitStatus(agp, '1TS000033', 10000)\n",
    "cmd = '1TP\\r\\n' # Get current position\n",
    "agp.write(cmd.encode())\n",
    "position = agp.readline().decode().rstrip()\n",
    "print(\"Position = \" + position)\n",
    "\n",
    "k = 0\n",
    "\n",
    "# Iteratively change coinc window\n",
    "for i in np.arange(120,171,1):\n",
    "    qutau.setCoincidenceWindow(i)\n",
    "    time.sleep(1)\n",
    "    \n",
    "    # Iteratively get the coinc and wait the exposure time\n",
    "    for j in range(measurements_per_point):\n",
    "        #start = time.time()\n",
    "        data_temp, update_temp = qutau.getCoincCounters()\n",
    "        data_temp = data_temp[[0,1,8]] * 1000/exptime\n",
    "        data_temp = np.append(data_temp, update_temp)\n",
    "        #pos_temp = start_point + i * step_size\n",
    "        data[k * measurements_per_point + j] = np.append(i,data_temp)\n",
    "        #print(update_temp)\n",
    "        time.sleep(exptime/1000.0)\n",
    "        #print(\"It took\", time.time()-start, \"seconds for the measurement\".)\n",
    "\n",
    "    k += 1\n",
    "\n",
    "# Save the data, metadata and phases to csv files\n",
    "\n",
    "# Generate a date and time tag for the filename\n",
    "date_time_tag = datetime.now().strftime('%Y%m%d_%H%M%S')\n",
    "\n",
    "file_name_data = f'{date_time_tag}_data.csv'\n",
    "np.savetxt(file_name_data, data, delimiter=',')\n",
    "\n",
    "\n",
    "metadata = np.array([[\"start_point\", \"step_size\", \"num_points\", \"measurements_per_point\", \"exptime\", \"coinc\", \"laser_diode_curr\",\"free_space_filter\",\"temp\",\"HWP\"],\n",
    "            [start_point, step_size, num_points, measurements_per_point, exptime, coinc, laser_diode_curr, free_space_filter,temp,HWP]])\n",
    "file_name_metadata = f'{date_time_tag}_metadata.csv'\n",
    "#np.savetxt(file_name_metadata, metadata, delimiter=',')\n",
    "with open(file_name_metadata, 'w', newline='') as csvfile:\n",
    "    writer = csv.writer(csvfile)\n",
    "    writer.writerows(metadata)"
   ]
  },
  {
   "cell_type": "code",
   "execution_count": null,
   "metadata": {},
   "outputs": [],
   "source": [
    "# Finding unique values in col 1 (coinc_window)\n",
    "coincidence_window = np.unique(data[:, 0])\n",
    "\n",
    "# Calculating mean and standard deviation for col 2, 3, and 4 (singles & coinc)\n",
    "# based on values in column 1 (coinc_window)\n",
    "data_dict = {}\n",
    "for coinc_window in coincidence_window:\n",
    "    mask = data[:, 0] == coinc_window\n",
    "    mean_values = data[mask, 1:4].mean(axis=0)\n",
    "    std_values = data[mask, 1:4].std(axis=0)\n",
    "    data_dict[coinc_window] = {'mean': mean_values, 'std': std_values}\n",
    "\n",
    "# Extracting mean values of coinc (col 4) and unique values from result\n",
    "coinc_mean = [value['mean'][2] for value in data_dict.values()]\n",
    "#unique_vals_col1 = list(result.keys())\n",
    "\n",
    "# Extracting standard deviation values of coinc (col 4) for error bars\n",
    "coinc_std = [value['std'][2] for value in data_dict.values()]\n",
    "\n",
    "# Plotting with error bars\n",
    "plt.figure(figsize=(10, 6))\n",
    "plt.errorbar(coincidence_window, coinc_mean, yerr=coinc_std, marker='o', linestyle='-', capsize=5)#, label=\"Mean of Column 4\")\n",
    "plt.title(\"measurements_per_point: \"+ str(measurements_per_point) + \", exptime: \" + str(exptime) + \", coinc window: \" + str(coinc) \n",
    "                    + \", step_size: \" + str(step_size) + \", laser_diode_curr: \" + str(laser_diode_curr) + \", temp: \" + str(temp) + \", HWP \" + str(HWP) +\"°\")\n",
    "plt.xlabel(\"coincidence_window\")\n",
    "plt.ylabel(\"Coincidence rate (s^-1)\")\n",
    "#plt.legend()\n",
    "plt.grid(True)\n",
    "plt.show()"
   ]
  },
  {
   "cell_type": "markdown",
   "metadata": {},
   "source": [
    "# Background coinc\n",
    "As sadly with the quTAU only the maximum of the coincidence window can be set, a lot of \"false\" (or background) coincidences is measured together with the \"real\" coincidences we are interested in. Here, these \"false\" coincidences where identified by simply lowering the coincidence window to a number of bins where only \"false\" coincidences are registered.\n",
    "This measurement is taken outside of the HOM dip, but actually I think it doesnt have to...?"
   ]
  },
  {
   "cell_type": "code",
   "execution_count": null,
   "metadata": {},
   "outputs": [],
   "source": [
    "qutau.setCoincidenceWindow(120)\n",
    "\n",
    "#laser_diode_curr = 110\n",
    "\n",
    "# measurement on one point (where only a single measurement is taken)\n",
    "point_single = 5\n",
    "measurements_per_point_single = 100\n",
    "\n",
    "# create array to hold data\n",
    "data = np.zeros((measurements_per_point_single,5))\n",
    "\n",
    "# move linear stage to  point\n",
    "cmd = \"1PA\"+str(point_single)+\"\\r\\n\" # Move absolute\n",
    "agp.write(cmd.encode())\n",
    "WaitStatus(agp, '1TS000033', 10000)\n",
    "cmd = '1TP\\r\\n' # Get current position\n",
    "agp.write(cmd.encode())\n",
    "position = agp.readline().decode().rstrip()\n",
    "print(\"Position = \" + position)\n",
    "\n",
    "\n",
    "# Iteratively get the coinc and wait the exposure time\n",
    "for j in range(measurements_per_point_single):\n",
    "    #start = time.time()\n",
    "    data_temp, update_temp = qutau.getCoincCounters()\n",
    "    data_temp = data_temp[[0,1,8]] * 1000/exptime\n",
    "    data_temp = np.append(data_temp, update_temp)\n",
    "    pos_temp = point_single\n",
    "    data[j] = np.append(pos_temp,data_temp)\n",
    "    #print(update_temp)\n",
    "    time.sleep(exptime/1000.0)\n",
    "    #print(\"It took\", time.time()-start, \"seconds for the measurement\".)\n",
    "\n",
    "\n",
    "# Save the data, metadata and phases to csv files\n",
    "\n",
    "# Generate a date and time tag for the filename\n",
    "date_time_tag = datetime.now().strftime('%Y%m%d_%H%M%S')\n",
    "\n",
    "file_name_data = f'{date_time_tag}_single_point_data_I{laser_diode_curr}.csv'\n",
    "np.savetxt(file_name_data, data, delimiter=',')\n",
    "\n",
    "metadata = np.array([[\"point_single\", \"measurements_per_point_single\", \"exptime\", \"coinc\", \"laser_diode_curr\",\"free_space_filter\",\"temp\", \"HWP\"],\n",
    "            [point_single, measurements_per_point_single, exptime, coinc, laser_diode_curr, free_space_filter,temp, HWP]])\n",
    "file_name_metadata = f'{date_time_tag}_single_point_metadata.csv'\n",
    "#np.savetxt(file_name_metadata, metadata, delimiter=',')\n",
    "with open(file_name_metadata, 'w', newline='') as csvfile:\n",
    "    writer = csv.writer(csvfile)\n",
    "    writer.writerows(metadata)"
   ]
  },
  {
   "cell_type": "markdown",
   "metadata": {},
   "source": [
    "# SPDC pre"
   ]
  },
  {
   "cell_type": "code",
   "execution_count": 71,
   "metadata": {},
   "outputs": [
    {
     "name": "stdout",
     "output_type": "stream",
     "text": [
      "Updated set point to: 45.24°C\n",
      "Temperature settled at 45.24°C\n"
     ]
    }
   ],
   "source": [
    "temp = 45.24 #°C\n",
    "TEC_set_and_wait(temp)"
   ]
  },
  {
   "cell_type": "code",
   "execution_count": 102,
   "metadata": {},
   "outputs": [],
   "source": [
    "laser_diode_curr = 290\n",
    "\n",
    "# measurement on one point\n",
    "#point_single = 4.1\n",
    "measurements_per_point_single = 100\n",
    "\n",
    "\n",
    "# create array to hold data\n",
    "data = np.zeros((measurements_per_point_single,4))\n",
    "\n",
    "# move linear stage to  point\n",
    "#cmd = \"1PA\"+str(point_single)+\"\\r\\n\" # Move absolute\n",
    "#agp.write(cmd.encode())\n",
    "#WaitStatus(agp, '1TS000033', 10000)\n",
    "#cmd = '1TP\\r\\n' # Get current position\n",
    "#agp.write(cmd.encode())\n",
    "#position = agp.readline().decode().rstrip()\n",
    "#print(\"Position = \" + position)\n",
    "\n",
    "\n",
    "# Iteratively get the coinc and wait the exposure time\n",
    "for j in range(measurements_per_point_single):\n",
    "    #start = time.time()\n",
    "    data_temp, update_temp = qutau.getCoincCounters()\n",
    "    data_temp = data_temp[[0,1,8]] * 1000/exptime\n",
    "    data_temp = np.append(data_temp, update_temp)\n",
    "    #pos_temp = point_single\n",
    "    data[j] = data_temp\n",
    "    #print(update_temp)\n",
    "    time.sleep(exptime/1000.0)\n",
    "    #print(\"It took\", time.time()-start, \"seconds for the measurement\".)\n",
    "\n",
    "\n",
    "# Save the data, metadata and phases to csv files\n",
    "\n",
    "# Generate a date and time tag for the filename\n",
    "date_time_tag = datetime.now().strftime('%Y%m%d_%H%M%S')\n",
    "\n",
    "file_name_data = f'{date_time_tag}_single_point_data_{laser_diode_curr}.csv'\n",
    "np.savetxt(file_name_data, data, delimiter=',')\n",
    "\n",
    "metadata = np.array([[\"measurements_per_point_single\", \"exptime\", \"coinc\", \"laser_diode_curr\",\"temp\"],\n",
    "            [measurements_per_point_single, exptime, coinc, laser_diode_curr  ,temp]])\n",
    "file_name_metadata = f'{date_time_tag}_single_point_metadata.csv'\n",
    "#np.savetxt(file_name_metadata, metadata, delimiter=',')\n",
    "with open(file_name_metadata, 'w', newline='') as csvfile:\n",
    "    writer = csv.writer(csvfile)\n",
    "    writer.writerows(metadata)\n",
    "\n",
    "#file_name_phases_HOM = f'{date_time_tag}_single_point_phases.csv'\n",
    "#np.savetxt(file_name_phases_HOM, phases_HOM, delimiter=',')"
   ]
  },
  {
   "cell_type": "markdown",
   "metadata": {},
   "source": [
    "# deinitialization"
   ]
  },
  {
   "cell_type": "code",
   "execution_count": 61,
   "metadata": {},
   "outputs": [
    {
     "data": {
      "text/plain": [
       "0"
      ]
     },
     "execution_count": 61,
     "metadata": {},
     "output_type": "execute_result"
    }
   ],
   "source": [
    "# deinitialize quTAU\n",
    "qutau.deInitialize()"
   ]
  },
  {
   "cell_type": "code",
   "execution_count": null,
   "metadata": {},
   "outputs": [],
   "source": [
    "# deinitialize conex linear stage, but before that, move it to a safe position\n",
    "\n",
    "# move linear stage to  point\n",
    "cmd = \"1PA\"+str(9)+\"\\r\\n\" # Move absolute\n",
    "agp.write(cmd.encode())\n",
    "WaitStatus(agp, '1TS000033', 10000)\n",
    "cmd = '1TP\\r\\n' # Get current position\n",
    "agp.write(cmd.encode())\n",
    "position = agp.readline().decode().rstrip()\n",
    "print(\"Position = \" + position)\n",
    "\n",
    "print(\"\")\n",
    "print(\"DONT FORGET TO PUT THE HWP AWAY!!!!!!\")\n",
    "\n",
    "# background: In some setups, the HWP can be in a position where it will be \"hit\" \n",
    "# by the collimator on the part of the linear stage that is moving, when the \n",
    "# linear stage is homing (aka moving to the 0 position). This can damage the HWP. \n",
    "# So in these situations, after the measurement, the HWP should be moved away \n",
    "# after the measurements are done, such that the collimator wont damage the HWP\n",
    "# when you want to start a measurement and the linear stage is homing as part of its initalization.\n",
    "\n",
    "# close conex port\n",
    "agp.close()"
   ]
  },
  {
   "cell_type": "code",
   "execution_count": null,
   "metadata": {},
   "outputs": [],
   "source": [
    "# deinitalize TEC\n",
    "TEC.close()"
   ]
  }
 ],
 "metadata": {
  "kernelspec": {
   "display_name": "base",
   "language": "python",
   "name": "python3"
  },
  "language_info": {
   "codemirror_mode": {
    "name": "ipython",
    "version": 3
   },
   "file_extension": ".py",
   "mimetype": "text/x-python",
   "name": "python",
   "nbconvert_exporter": "python",
   "pygments_lexer": "ipython3",
   "version": "3.9.13"
  },
  "orig_nbformat": 4
 },
 "nbformat": 4,
 "nbformat_minor": 2
}
